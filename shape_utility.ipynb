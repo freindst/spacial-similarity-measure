{
 "cells": [
  {
   "cell_type": "code",
   "execution_count": 1,
   "id": "e1d81b2c",
   "metadata": {},
   "outputs": [],
   "source": [
    "from shapely.geometry import Point, LineString, Polygon"
   ]
  },
  {
   "cell_type": "code",
   "execution_count": null,
   "id": "1f3a1cdb",
   "metadata": {},
   "outputs": [],
   "source": [
    "def get_exterior_boundary_from_polygon(polygon: Polygon):\n",
    "    #this function returns all edges of a polygon as shapely LineString in a list\n",
    "    coords = polygon.exterior.coords\n",
    "    total = len(coords)\n",
    "    lines = []\n",
    "    for i in range(total - 1):\n",
    "        lines.append(LineString(coords[i:i+2]))\n",
    "    return lines"
   ]
  },
  {
   "cell_type": "code",
   "execution_count": null,
   "id": "70acb0aa",
   "metadata": {},
   "outputs": [],
   "source": [
    "def scan_polygon_to_grid(polygon: Polygon, interval: float):\n",
    "    #convert polygon into a bit map.\n",
    "    #the resolution is interval\n",
    "    #a pixel represents a square polygon whose side length is equal to interval\n",
    "    #a pixel is 1 when it is intersected with the polygon or any vertex of the polygon is inside the pixel, otherwise it is 0\n",
    "    bounds = polygon.bounds\n",
    "    x0, y0, x1, y1 = bounds[0], bounds[1], bounds[2], bounds[3]\n",
    "    grid = []\n",
    "    x_curr = x0\n",
    "    y_curr = y0\n",
    "    x_next = x_curr + interval\n",
    "    y_next = y_curr + interval\n",
    "    while y_next < y1:\n",
    "        row = []\n",
    "        while x_next < x1:\n",
    "            pixel_curr = Polygon([\n",
    "                (x_curr, y_curr),\n",
    "                (x_curr, y_next),\n",
    "                (x_next, y_next),\n",
    "                (x_next, y_curr)\n",
    "            ])\n",
    "            if is_intersect_or_contain(pixel_curr, polygon):\n",
    "                row.append(1)\n",
    "            else:\n",
    "                row.append(0)\n",
    "            x_curr = x_next\n",
    "            x_next += interval\n",
    "        grid.append(row)\n",
    "        y_curr = y_next\n",
    "        y_next+= interval\n",
    "        x_curr = x0\n",
    "        x_next = x_curr+interval\n",
    "    return grid"
   ]
  },
  {
   "cell_type": "code",
   "execution_count": 2,
   "id": "b0efe353",
   "metadata": {},
   "outputs": [],
   "source": [
    "def is_intersect_or_contain(p_src: Polygon, p_tar: Polygon):\n",
    "    #check if p_src intersects with p_tar or any point of p_tar is inside p_src\n",
    "    for point in p_tar.exterior.coords:\n",
    "        if p_src.contains(Point(point)):\n",
    "            return True\n",
    "    for edge in get_exterior_boundary_from_polygon(p_tar):\n",
    "        if edge.intersects(p_src):\n",
    "            return True\n",
    "    return False"
   ]
  }
 ],
 "metadata": {
  "kernelspec": {
   "display_name": "Python 3 (ipykernel)",
   "language": "python",
   "name": "python3"
  },
  "language_info": {
   "codemirror_mode": {
    "name": "ipython",
    "version": 3
   },
   "file_extension": ".py",
   "mimetype": "text/x-python",
   "name": "python",
   "nbconvert_exporter": "python",
   "pygments_lexer": "ipython3",
   "version": "3.10.7"
  }
 },
 "nbformat": 4,
 "nbformat_minor": 5
}
